{
 "cells": [
  {
   "cell_type": "code",
   "execution_count": 39,
   "id": "65724284-84cb-44d5-9972-ac5ada4e7523",
   "metadata": {},
   "outputs": [],
   "source": [
    "import pandas as pd\n",
    "import bioframe\n",
    "import glob\n",
    "import numpy as np\n",
    "\n",
    "import matplotlib as mpl\n",
    "import matplotlib.pyplot as plt\n",
    "import seaborn as sns\n",
    "%matplotlib inline\n",
    "\n",
    "import cooler"
   ]
  },
  {
   "cell_type": "code",
   "execution_count": 27,
   "id": "66abbbbb-0ceb-4b50-97e2-dc207b6a3b5d",
   "metadata": {},
   "outputs": [],
   "source": [
    "pd.set_option('display.max_rows', 500)"
   ]
  },
  {
   "cell_type": "code",
   "execution_count": 7,
   "id": "33f83277-651d-4183-ace8-8497dd328dea",
   "metadata": {},
   "outputs": [],
   "source": [
    "organism = 'dicty'\n",
    "df_genes = pd.read_csv('../../GENOME/dictybase_gene_coordinates.txt', sep='\\t', header=None)\n",
    "df_genes.columns = ['chrom', 'start', 'end', 'strand', 'name']\n",
    "df_genes.loc[:, 'length'] = (df_genes.end-df_genes.start)\n",
    "df_genes = df_genes.sort_values(['chrom', 'start', 'end']).reset_index(drop=True)\n",
    "df_chromsizes = pd.read_csv('../../GENOME/dicty_chromsizes.txt', sep='\\t', header=None)"
   ]
  },
  {
   "cell_type": "code",
   "execution_count": 35,
   "id": "75c4fd97-11e9-40eb-b7a7-930c4a72dc05",
   "metadata": {},
   "outputs": [],
   "source": [
    "df_expression = pd.read_csv('../../RNASEQ/mapping_tsoi/all_gene_markdup_htseq', \n",
    "                            sep='\\t', header=None)\n",
    "df_expression.columns = ['name', '0A', '0B', '2A', '2B', '5A', '5B', '8A', '8B']\n",
    "\n",
    "for f in glob.glob('../../RNASEQ/mapping_tsoi/difexpr/ed*'):\n",
    "    df_tmp = pd.read_csv(f, sep='\\t', header=None)\n",
    "    pref = '_'.join( f.split('/')[-1].split('.')[0].split('_')[2:5] )\n",
    "    df_tmp.columns = ['chrom', 'name', 'start', 'end', 'strand', f'score_{pref}']\n",
    "    df_expression = df_expression.merge(df_tmp[['name', f'score_{pref}']], on=['name'], how='outer')\n",
    "    \n",
    "df_expression = pd.merge(df_expression, df_genes, on='name', how='outer').dropna(subset=['chrom', 'start', 'end'])\n",
    "df_expression.loc[:, 'length'] = (df_expression.end-df_expression.start)\n",
    "\n",
    "for rep in ['0A', '0B', '2A', '2B', '5A', '5B', '8A', '8B']:\n",
    "    df_expression.loc[:, f'rpkm_{rep}'] = 1e6*1e3*df_expression[f'{rep}']/np.sum(df_expression[f'{rep}'])/df_expression['length']\n",
    "\n",
    "df_expression.loc[:, 'expr_0h'] = df_expression.loc[:, 'rpkm_0A'] + df_expression.loc[:, 'rpkm_0B']\n",
    "df_expression.loc[:, 'expr_2h'] = df_expression.loc[:, 'rpkm_2A'] + df_expression.loc[:, 'rpkm_2B']\n",
    "df_expression.loc[:, 'expr_5h'] = df_expression.loc[:, 'rpkm_5A'] + df_expression.loc[:, 'rpkm_5B']\n",
    "df_expression.loc[:, 'expr_8h'] = df_expression.loc[:, 'rpkm_8A'] + df_expression.loc[:, 'rpkm_8B']\n",
    "\n",
    "df_expression[['start', 'end']] = df_expression[['start', 'end']].astype(int)\n",
    "\n",
    "# df_expression.loc[:, 'gene_start'] = np.where(df_expression.strand==\"+\", df_expression.start, df_expression.end)\n",
    "# df_expression.loc[:, 'gene_end'] = np.where(df_expression.strand==\"+\", df_expression.end, df_expression.start)\n",
    "\n",
    "# df_expression.loc[:, 'start'] = df_expression.loc[:, 'gene_start']\n",
    "# df_expression.loc[:, 'end'] = df_expression.loc[:, 'gene_end']\n",
    "\n",
    "df_expression = df_expression[[\n",
    "    'chrom', 'start', 'end', 'strand', 'length', 'name', \n",
    "    'expr_0h', 'expr_2h', 'expr_5h', 'expr_8h',\n",
    "    'rpkm_0A', 'rpkm_0B', 'rpkm_2A', 'rpkm_2B', 'rpkm_5A', 'rpkm_5B', 'rpkm_8A', 'rpkm_8B',\n",
    "    '0A', '0B', '2A', '2B', '5A', '5B', '8A', '8B',\n",
    "    'score_two_vs_zero', 'score_five_vs_two', 'score_five_vs_zero', 'score_eight_vs_two', 'score_eight_vs_zero', 'score_eight_vs_five',\n",
    "]]"
   ]
  },
  {
   "cell_type": "code",
   "execution_count": 40,
   "id": "e5395504-1f2b-4cd4-a254-3b3dcd6268d6",
   "metadata": {},
   "outputs": [
    {
     "name": "stderr",
     "output_type": "stream",
     "text": [
      "/home/agalicina/anaconda3/lib/python3.9/site-packages/seaborn/distributions.py:2619: FutureWarning: `distplot` is a deprecated function and will be removed in a future version. Please adapt your code to use either `displot` (a figure-level function with similar flexibility) or `histplot` (an axes-level function for histograms).\n",
      "  warnings.warn(msg, FutureWarning)\n"
     ]
    },
    {
     "data": {
      "text/plain": [
       "<AxesSubplot:xlabel='expr_0h', ylabel='Density'>"
      ]
     },
     "execution_count": 40,
     "metadata": {},
     "output_type": "execute_result"
    },
    {
     "data": {
      "image/png": "[encoded data removed]",
      "text/plain": [
       "<Figure size 432x288 with 1 Axes>"
      ]
     },
     "metadata": {
      "needs_background": "light"
     },
     "output_type": "display_data"
    }
   ],
   "source": [
    "sns.distplot(df_expression.expr_0h)"
   ]
  },
  {
   "cell_type": "code",
   "execution_count": 93,
   "id": "6c60c4c9-e29c-4e3d-b773-ace5a1e9b12c",
   "metadata": {},
   "outputs": [
    {
     "data": {
      "text/plain": [
       "9.55080696165906"
      ]
     },
     "execution_count": 93,
     "metadata": {},
     "output_type": "execute_result"
    }
   ],
   "source": [
    "bottom_th = np.percentile(df_expression.expr_0h, 50)\n",
    "bottom_th"
   ]
  },
  {
   "cell_type": "code",
   "execution_count": 291,
   "id": "662a7db9-cec2-4c20-a851-fb1c1d84c7f4",
   "metadata": {},
   "outputs": [],
   "source": [
    "start = 3000000\n",
    "end = 3250000\n",
    "chrom = \"chr1\"\n",
    "df_selected = bioframe.select(df_expression, f\"{chrom}:{start}-{end}\")\\\n",
    "  .query(f\"expr_0h>{bottom_th}\").sort_values('start').reset_index(drop=True)"
   ]
  },
  {
   "cell_type": "code",
   "execution_count": 292,
   "id": "d39ea061-a838-4cc2-8328-5051e81ed58b",
   "metadata": {},
   "outputs": [
    {
     "data": {
      "text/plain": [
       "(-10.0, 10.0)"
      ]
     },
     "execution_count": 292,
     "metadata": {},
     "output_type": "execute_result"
    },
    {
     "data": {
      "image/png": "[encoded data removed]",
      "text/plain": [
       "<Figure size 1440x216 with 1 Axes>"
      ]
     },
     "metadata": {
      "needs_background": "light"
     },
     "output_type": "display_data"
    }
   ],
   "source": [
    "# https://matplotlib.org/3.1.0/gallery/lines_bars_and_markers/joinstyle.html#cap-styles\n",
    "\n",
    "plt.figure(figsize=[20,3])\n",
    "for i, r in df_selected.iterrows():\n",
    "    color = 'r' if r.strand==\"+\" else 'b'\n",
    "    ypos = 1 if r.strand==\"+\" else 0\n",
    "    plt.plot([r.start, r.end], [ypos, ypos], color=color, solid_capstyle='butt', alpha=0.5, linewidth=np.log2(r.expr_0h))\n",
    "    \n",
    "    \n",
    "plt.xlim(start, end)\n",
    "plt.ylim(-10,10)"
   ]
  },
  {
   "cell_type": "code",
   "execution_count": 293,
   "id": "d6045d86-33e2-41b9-8a3d-d4cde14ec40e",
   "metadata": {},
   "outputs": [
    {
     "data": {
      "text/plain": [
       "61"
      ]
     },
     "execution_count": 293,
     "metadata": {},
     "output_type": "execute_result"
    }
   ],
   "source": [
    "len(df_selected)"
   ]
  },
  {
   "cell_type": "code",
   "execution_count": 300,
   "id": "f33ff595-3bb1-42b9-8d30-f37f919ac524",
   "metadata": {},
   "outputs": [],
   "source": [
    "binsize = 250\n",
    "#offset = 261\n",
    "\n",
    "df_selected.loc[:, 'start_bin'] = df_selected.start//binsize - start//binsize #- min(df_selected.start)//binsize + offset\n",
    "df_selected.loc[:, 'end_bin']   = df_selected.end//binsize   - start//binsize # - min(df_selected.start)//binsize + offset\n"
   ]
  },
  {
   "cell_type": "code",
   "execution_count": 316,
   "id": "3c93faad-036e-4ccb-adc9-8dddcd645901",
   "metadata": {},
   "outputs": [
    {
     "data": {
      "text/plain": [
       "1000"
      ]
     },
     "execution_count": 316,
     "metadata": {},
     "output_type": "execute_result"
    }
   ],
   "source": [
    "end//binsize - start//binsize"
   ]
  },
  {
   "cell_type": "code",
   "execution_count": 301,
   "id": "1b777699-6357-4eb2-9b22-8534daeb2312",
   "metadata": {},
   "outputs": [],
   "source": [
    "# vm = np.max(np.log10(df_selected.expr_0h))\n",
    "# df_selected.loc[:, \"norm_expr\"] = np.log10(df_selected.expr_0h)/vm\n",
    "\n",
    "vm = np.mean(df_selected.expr_0h)\n",
    "df_selected.loc[:, \"norm_expr\"] = df_selected.expr_0h/vm"
   ]
  },
  {
   "cell_type": "code",
   "execution_count": 302,
   "id": "dd4d8338-b22f-4ff5-9f37-4e413a50eb51",
   "metadata": {},
   "outputs": [],
   "source": [
    "def validate_overlaps(starts, ends):\n",
    "    starts = np.array(starts)\n",
    "    ends = np.array(ends)\n",
    "    starts_next = np.roll(starts, 1)\n",
    "    \n",
    "    errors = np.where(ends<=starts_next)[0]\n",
    "    assert errors.shape==(1,), f\"Problem at: {errors[1:]}\"\n",
    "    \n",
    "    return ends, starts_next"
   ]
  },
  {
   "cell_type": "code",
   "execution_count": 303,
   "id": "9fd72283-7478-42b7-9704-68b39cd33622",
   "metadata": {},
   "outputs": [],
   "source": [
    "ends, starts_next = validate_overlaps(df_selected.start_bin, df_selected.end_bin)"
   ]
  },
  {
   "cell_type": "code",
   "execution_count": 304,
   "id": "9942de0c-74f6-4719-bf9e-12aeea5d04c3",
   "metadata": {},
   "outputs": [],
   "source": [
    "df_selected.loc[:, 'gene_start'] = np.where(df_selected.strand==\"+\", df_selected.start_bin, df_selected.end_bin)\n",
    "df_selected.loc[:, 'gene_end']   = np.where(df_selected.strand==\"+\", df_selected.end_bin,   df_selected.start_bin)\n",
    "df_selected.loc[:, 'gene_size']  = np.abs(df_selected.gene_start-df_selected.gene_end)"
   ]
  },
  {
   "cell_type": "code",
   "execution_count": 305,
   "id": "86b2a2d4-8675-45b1-9ac1-dd09aed836bd",
   "metadata": {},
   "outputs": [
    {
     "data": {
      "text/html": [
       "<div>\n",
       "<style scoped>\n",
       "    .dataframe tbody tr th:only-of-type {\n",
       "        vertical-align: middle;\n",
       "    }\n",
       "\n",
       "    .dataframe tbody tr th {\n",
       "        vertical-align: top;\n",
       "    }\n",
       "\n",
       "    .dataframe thead th {\n",
       "        text-align: right;\n",
       "    }\n",
       "</style>\n",
       "<table border=\"1\" class=\"dataframe\">\n",
       "  <thead>\n",
       "    <tr style=\"text-align: right;\">\n",
       "      <th></th>\n",
       "      <th>gene_start</th>\n",
       "      <th>gene_end</th>\n",
       "      <th>norm_expr</th>\n",
       "      <th>gene_size</th>\n",
       "      <th>strand</th>\n",
       "      <th>start</th>\n",
       "      <th>end</th>\n",
       "    </tr>\n",
       "  </thead>\n",
       "  <tbody>\n",
       "    <tr>\n",
       "      <th>0</th>\n",
       "      <td>51</td>\n",
       "      <td>38</td>\n",
       "      <td>0.185201</td>\n",
       "      <td>13</td>\n",
       "      <td>-</td>\n",
       "      <td>3009708</td>\n",
       "      <td>3012882</td>\n",
       "    </tr>\n",
       "    <tr>\n",
       "      <th>1</th>\n",
       "      <td>57</td>\n",
       "      <td>54</td>\n",
       "      <td>3.879881</td>\n",
       "      <td>3</td>\n",
       "      <td>-</td>\n",
       "      <td>3013601</td>\n",
       "      <td>3014302</td>\n",
       "    </tr>\n",
       "    <tr>\n",
       "      <th>2</th>\n",
       "      <td>65</td>\n",
       "      <td>70</td>\n",
       "      <td>0.087748</td>\n",
       "      <td>5</td>\n",
       "      <td>+</td>\n",
       "      <td>3016390</td>\n",
       "      <td>3017663</td>\n",
       "    </tr>\n",
       "    <tr>\n",
       "      <th>3</th>\n",
       "      <td>75</td>\n",
       "      <td>70</td>\n",
       "      <td>0.431692</td>\n",
       "      <td>5</td>\n",
       "      <td>-</td>\n",
       "      <td>3017741</td>\n",
       "      <td>3018878</td>\n",
       "    </tr>\n",
       "    <tr>\n",
       "      <th>4</th>\n",
       "      <td>76</td>\n",
       "      <td>81</td>\n",
       "      <td>1.028104</td>\n",
       "      <td>5</td>\n",
       "      <td>+</td>\n",
       "      <td>3019090</td>\n",
       "      <td>3020441</td>\n",
       "    </tr>\n",
       "    <tr>\n",
       "      <th>5</th>\n",
       "      <td>100</td>\n",
       "      <td>82</td>\n",
       "      <td>0.843344</td>\n",
       "      <td>18</td>\n",
       "      <td>-</td>\n",
       "      <td>3020703</td>\n",
       "      <td>3025206</td>\n",
       "    </tr>\n",
       "    <tr>\n",
       "      <th>6</th>\n",
       "      <td>118</td>\n",
       "      <td>136</td>\n",
       "      <td>1.563322</td>\n",
       "      <td>18</td>\n",
       "      <td>+</td>\n",
       "      <td>3029557</td>\n",
       "      <td>3034180</td>\n",
       "    </tr>\n",
       "    <tr>\n",
       "      <th>7</th>\n",
       "      <td>158</td>\n",
       "      <td>139</td>\n",
       "      <td>0.258159</td>\n",
       "      <td>19</td>\n",
       "      <td>-</td>\n",
       "      <td>3034894</td>\n",
       "      <td>3039544</td>\n",
       "    </tr>\n",
       "    <tr>\n",
       "      <th>8</th>\n",
       "      <td>167</td>\n",
       "      <td>164</td>\n",
       "      <td>2.012170</td>\n",
       "      <td>3</td>\n",
       "      <td>-</td>\n",
       "      <td>3041058</td>\n",
       "      <td>3041915</td>\n",
       "    </tr>\n",
       "    <tr>\n",
       "      <th>9</th>\n",
       "      <td>189</td>\n",
       "      <td>171</td>\n",
       "      <td>0.628040</td>\n",
       "      <td>18</td>\n",
       "      <td>-</td>\n",
       "      <td>3042784</td>\n",
       "      <td>3047317</td>\n",
       "    </tr>\n",
       "  </tbody>\n",
       "</table>\n",
       "</div>"
      ],
      "text/plain": [
       "   gene_start  gene_end  norm_expr  gene_size strand    start      end\n",
       "0          51        38   0.185201         13      -  3009708  3012882\n",
       "1          57        54   3.879881          3      -  3013601  3014302\n",
       "2          65        70   0.087748          5      +  3016390  3017663\n",
       "3          75        70   0.431692          5      -  3017741  3018878\n",
       "4          76        81   1.028104          5      +  3019090  3020441\n",
       "5         100        82   0.843344         18      -  3020703  3025206\n",
       "6         118       136   1.563322         18      +  3029557  3034180\n",
       "7         158       139   0.258159         19      -  3034894  3039544\n",
       "8         167       164   2.012170          3      -  3041058  3041915\n",
       "9         189       171   0.628040         18      -  3042784  3047317"
      ]
     },
     "execution_count": 305,
     "metadata": {},
     "output_type": "execute_result"
    }
   ],
   "source": [
    "df_selected[['gene_start', 'gene_end', 'norm_expr', 'gene_size', 'strand', 'start', 'end']].head(10)"
   ]
  },
  {
   "cell_type": "code",
   "execution_count": 306,
   "id": "fdb28e3c-3590-46d7-a57b-8d06f476fec0",
   "metadata": {},
   "outputs": [
    {
     "data": {
      "text/html": [
       "<div>\n",
       "<style scoped>\n",
       "    .dataframe tbody tr th:only-of-type {\n",
       "        vertical-align: middle;\n",
       "    }\n",
       "\n",
       "    .dataframe tbody tr th {\n",
       "        vertical-align: top;\n",
       "    }\n",
       "\n",
       "    .dataframe thead th {\n",
       "        text-align: right;\n",
       "    }\n",
       "</style>\n",
       "<table border=\"1\" class=\"dataframe\">\n",
       "  <thead>\n",
       "    <tr style=\"text-align: right;\">\n",
       "      <th></th>\n",
       "      <th>gene_start</th>\n",
       "      <th>gene_end</th>\n",
       "      <th>norm_expr</th>\n",
       "      <th>gene_size</th>\n",
       "      <th>strand</th>\n",
       "      <th>start</th>\n",
       "      <th>end</th>\n",
       "    </tr>\n",
       "  </thead>\n",
       "  <tbody>\n",
       "    <tr>\n",
       "      <th>51</th>\n",
       "      <td>838</td>\n",
       "      <td>836</td>\n",
       "      <td>0.125070</td>\n",
       "      <td>2</td>\n",
       "      <td>-</td>\n",
       "      <td>3209191</td>\n",
       "      <td>3209706</td>\n",
       "    </tr>\n",
       "    <tr>\n",
       "      <th>52</th>\n",
       "      <td>838</td>\n",
       "      <td>846</td>\n",
       "      <td>1.107134</td>\n",
       "      <td>8</td>\n",
       "      <td>+</td>\n",
       "      <td>3209615</td>\n",
       "      <td>3211648</td>\n",
       "    </tr>\n",
       "    <tr>\n",
       "      <th>53</th>\n",
       "      <td>849</td>\n",
       "      <td>851</td>\n",
       "      <td>0.239649</td>\n",
       "      <td>2</td>\n",
       "      <td>+</td>\n",
       "      <td>3212380</td>\n",
       "      <td>3212770</td>\n",
       "    </tr>\n",
       "    <tr>\n",
       "      <th>54</th>\n",
       "      <td>859</td>\n",
       "      <td>866</td>\n",
       "      <td>1.350232</td>\n",
       "      <td>7</td>\n",
       "      <td>+</td>\n",
       "      <td>3214845</td>\n",
       "      <td>3216721</td>\n",
       "    </tr>\n",
       "    <tr>\n",
       "      <th>55</th>\n",
       "      <td>872</td>\n",
       "      <td>868</td>\n",
       "      <td>0.651044</td>\n",
       "      <td>4</td>\n",
       "      <td>-</td>\n",
       "      <td>3217078</td>\n",
       "      <td>3218041</td>\n",
       "    </tr>\n",
       "    <tr>\n",
       "      <th>56</th>\n",
       "      <td>903</td>\n",
       "      <td>892</td>\n",
       "      <td>0.111907</td>\n",
       "      <td>11</td>\n",
       "      <td>-</td>\n",
       "      <td>3223232</td>\n",
       "      <td>3225869</td>\n",
       "    </tr>\n",
       "    <tr>\n",
       "      <th>57</th>\n",
       "      <td>916</td>\n",
       "      <td>906</td>\n",
       "      <td>1.345884</td>\n",
       "      <td>10</td>\n",
       "      <td>-</td>\n",
       "      <td>3226604</td>\n",
       "      <td>3229060</td>\n",
       "    </tr>\n",
       "    <tr>\n",
       "      <th>58</th>\n",
       "      <td>926</td>\n",
       "      <td>929</td>\n",
       "      <td>0.108922</td>\n",
       "      <td>3</td>\n",
       "      <td>+</td>\n",
       "      <td>3231552</td>\n",
       "      <td>3232417</td>\n",
       "    </tr>\n",
       "    <tr>\n",
       "      <th>59</th>\n",
       "      <td>959</td>\n",
       "      <td>976</td>\n",
       "      <td>0.924659</td>\n",
       "      <td>17</td>\n",
       "      <td>+</td>\n",
       "      <td>3239824</td>\n",
       "      <td>3244143</td>\n",
       "    </tr>\n",
       "    <tr>\n",
       "      <th>60</th>\n",
       "      <td>991</td>\n",
       "      <td>995</td>\n",
       "      <td>1.727197</td>\n",
       "      <td>4</td>\n",
       "      <td>+</td>\n",
       "      <td>3247871</td>\n",
       "      <td>3248759</td>\n",
       "    </tr>\n",
       "  </tbody>\n",
       "</table>\n",
       "</div>"
      ],
      "text/plain": [
       "    gene_start  gene_end  norm_expr  gene_size strand    start      end\n",
       "51         838       836   0.125070          2      -  3209191  3209706\n",
       "52         838       846   1.107134          8      +  3209615  3211648\n",
       "53         849       851   0.239649          2      +  3212380  3212770\n",
       "54         859       866   1.350232          7      +  3214845  3216721\n",
       "55         872       868   0.651044          4      -  3217078  3218041\n",
       "56         903       892   0.111907         11      -  3223232  3225869\n",
       "57         916       906   1.345884         10      -  3226604  3229060\n",
       "58         926       929   0.108922          3      +  3231552  3232417\n",
       "59         959       976   0.924659         17      +  3239824  3244143\n",
       "60         991       995   1.727197          4      +  3247871  3248759"
      ]
     },
     "execution_count": 306,
     "metadata": {},
     "output_type": "execute_result"
    }
   ],
   "source": [
    "df_selected[['gene_start', 'gene_end', 'norm_expr', 'gene_size', 'strand', 'start', 'end']].tail(10)"
   ]
  },
  {
   "cell_type": "code",
   "execution_count": 307,
   "id": "ad5c44a1-296a-4a40-bd75-9834f615787f",
   "metadata": {},
   "outputs": [
    {
     "name": "stderr",
     "output_type": "stream",
     "text": [
      "/home/agalicina/anaconda3/lib/python3.9/site-packages/seaborn/distributions.py:2619: FutureWarning: `distplot` is a deprecated function and will be removed in a future version. Please adapt your code to use either `displot` (a figure-level function with similar flexibility) or `histplot` (an axes-level function for histograms).\n",
      "  warnings.warn(msg, FutureWarning)\n"
     ]
    },
    {
     "data": {
      "text/plain": [
       "(0.0, 15.0)"
      ]
     },
     "execution_count": 307,
     "metadata": {},
     "output_type": "execute_result"
    },
    {
     "data": {
      "image/png": "[encoded data removed]",
      "text/plain": [
       "<Figure size 432x288 with 1 Axes>"
      ]
     },
     "metadata": {
      "needs_background": "light"
     },
     "output_type": "display_data"
    }
   ],
   "source": [
    "sns.distplot( df_selected.gene_size, bins=np.arange(0,15,1))\n",
    "plt.xlim(0,15)"
   ]
  },
  {
   "cell_type": "code",
   "execution_count": 308,
   "id": "da578c23-db74-42d7-b6ad-85040125c83b",
   "metadata": {},
   "outputs": [
    {
     "data": {
      "text/plain": [
       "<seaborn.axisgrid.JointGrid at 0x7f62e4065790>"
      ]
     },
     "execution_count": 308,
     "metadata": {},
     "output_type": "execute_result"
    },
    {
     "data": {
      "image/png": "[encoded data removed]",
      "text/plain": [
       "<Figure size 432x432 with 3 Axes>"
      ]
     },
     "metadata": {
      "needs_background": "light"
     },
     "output_type": "display_data"
    }
   ],
   "source": [
    "sns.jointplot(data=df_selected, x=\"gene_size\", y=\"norm_expr\")"
   ]
  },
  {
   "cell_type": "code",
   "execution_count": 309,
   "id": "bc9038ba-0886-43ff-9967-4b699bb5ab12",
   "metadata": {},
   "outputs": [
    {
     "data": {
      "text/html": [
       "<div>\n",
       "<style scoped>\n",
       "    .dataframe tbody tr th:only-of-type {\n",
       "        vertical-align: middle;\n",
       "    }\n",
       "\n",
       "    .dataframe tbody tr th {\n",
       "        vertical-align: top;\n",
       "    }\n",
       "\n",
       "    .dataframe thead th {\n",
       "        text-align: right;\n",
       "    }\n",
       "</style>\n",
       "<table border=\"1\" class=\"dataframe\">\n",
       "  <thead>\n",
       "    <tr style=\"text-align: right;\">\n",
       "      <th></th>\n",
       "      <th>gene_start</th>\n",
       "      <th>gene_end</th>\n",
       "      <th>norm_expr</th>\n",
       "      <th>strand</th>\n",
       "    </tr>\n",
       "  </thead>\n",
       "  <tbody>\n",
       "    <tr>\n",
       "      <th>56</th>\n",
       "      <td>903</td>\n",
       "      <td>892</td>\n",
       "      <td>0.111907</td>\n",
       "      <td>-</td>\n",
       "    </tr>\n",
       "    <tr>\n",
       "      <th>57</th>\n",
       "      <td>916</td>\n",
       "      <td>906</td>\n",
       "      <td>1.345884</td>\n",
       "      <td>-</td>\n",
       "    </tr>\n",
       "    <tr>\n",
       "      <th>58</th>\n",
       "      <td>926</td>\n",
       "      <td>929</td>\n",
       "      <td>0.108922</td>\n",
       "      <td>+</td>\n",
       "    </tr>\n",
       "    <tr>\n",
       "      <th>59</th>\n",
       "      <td>959</td>\n",
       "      <td>976</td>\n",
       "      <td>0.924659</td>\n",
       "      <td>+</td>\n",
       "    </tr>\n",
       "    <tr>\n",
       "      <th>60</th>\n",
       "      <td>991</td>\n",
       "      <td>995</td>\n",
       "      <td>1.727197</td>\n",
       "      <td>+</td>\n",
       "    </tr>\n",
       "  </tbody>\n",
       "</table>\n",
       "</div>"
      ],
      "text/plain": [
       "    gene_start  gene_end  norm_expr strand\n",
       "56         903       892   0.111907      -\n",
       "57         916       906   1.345884      -\n",
       "58         926       929   0.108922      +\n",
       "59         959       976   0.924659      +\n",
       "60         991       995   1.727197      +"
      ]
     },
     "execution_count": 309,
     "metadata": {},
     "output_type": "execute_result"
    }
   ],
   "source": [
    "df_selected[['gene_start', 'gene_end', 'norm_expr', 'strand']].tail(5)"
   ]
  },
  {
   "cell_type": "code",
   "execution_count": 312,
   "id": "1810614a-3a54-4d30-a00f-3851c5a02db0",
   "metadata": {},
   "outputs": [
    {
     "name": "stdout",
     "output_type": "stream",
     "text": [
      "51,57,65,75,76,100,118,158,167,189,198,199,217,248,256,264,282,291,303,313,332,341,348,363,392,447,467,521,526,546,579,585,594,609,635,644,658,663,681,705,743,752,759,763,783,813,818,817,825,826,833,838,838,849,859,872,903,916,926,959,991\n"
     ]
    }
   ],
   "source": [
    "print( ','.join(df_selected.gene_start.astype('str').values) )"
   ]
  },
  {
   "cell_type": "code",
   "execution_count": 313,
   "id": "9e3995b0-d837-438c-9e24-ec6e21a377c3",
   "metadata": {},
   "outputs": [
    {
     "name": "stdout",
     "output_type": "stream",
     "text": [
      "38,54,70,70,81,82,136,139,164,171,192,205,222,236,261,276,289,297,308,309,315,335,359,367,387,440,476,476,536,565,567,591,596,615,628,639,654,659,697,724,733,748,758,782,801,808,816,819,821,832,832,836,846,851,866,868,892,906,929,976,995\n"
     ]
    }
   ],
   "source": [
    "print( ','.join(df_selected.gene_end.astype('str').values) )"
   ]
  },
  {
   "cell_type": "code",
   "execution_count": 314,
   "id": "c4104ee8-f5a1-4a93-8fef-bac5146da63c",
   "metadata": {},
   "outputs": [
    {
     "name": "stdout",
     "output_type": "stream",
     "text": [
      "0.19,3.88,0.09,0.43,1.03,0.84,1.56,0.26,2.01,0.63,3.09,0.48,0.21,2.84,1.06,0.20,1.07,0.19,1.00,3.60,0.32,0.65,0.95,0.16,1.68,1.40,0.11,0.26,1.23,0.19,0.33,0.59,3.40,0.19,4.27,0.23,0.48,0.11,0.37,0.10,3.44,2.73,0.20,0.16,0.10,1.02,0.94,0.12,1.96,0.86,0.15,0.13,1.11,0.24,1.35,0.65,0.11,1.35,0.11,0.92,1.73\n"
     ]
    }
   ],
   "source": [
    "print( ','.join([f\"{x:.2f}\" for x in df_selected.norm_expr.values]) )"
   ]
  },
  {
   "cell_type": "code",
   "execution_count": null,
   "id": "346ef2ff-009d-4f53-8da5-1f78f80d61b9",
   "metadata": {},
   "outputs": [],
   "source": [
    "### Final set of commands:\n",
    "\n",
    "python 00_1D_simulation.py -v -o data/traj1d/test-full.h5py \\\n",
    "  --pol-loading 51,57,65,75,76,100,118,158,167,189,198,199,217,248,256,264,282,291,303,313,332,341,348,363,392,447,467,521,526,546,579,585,594,609,635,644,658,663,681,705,743,752,759,763,783,813,818,817,825,826,833,838,838,849,859,872,903,916,926,959,991 \\\n",
    "  --pol-termination 38,54,70,70,81,82,136,139,164,171,192,205,222,236,261,276,289,297,308,309,315,335,359,367,387,440,476,476,536,565,567,591,596,615,628,639,654,659,697,724,733,748,758,782,801,808,816,819,821,832,832,836,846,851,866,868,892,906,929,976,995 \\\n",
    "  --pol-kin-loading 0.19,3.88,0.09,0.43,1.03,0.84,1.56,0.26,2.01,0.63,3.09,0.48,0.21,2.84,1.06,0.20,1.07,0.19,1.00,3.60,0.32,0.65,0.95,0.16,1.68,1.40,0.11,0.26,1.23,0.19,0.33,0.59,3.40,0.19,4.27,0.23,0.48,0.11,0.37,0.10,3.44,2.73,0.20,0.16,0.10,1.02,0.94,0.12,1.96,0.86,0.15,0.13,1.11,0.24,1.35,0.65,0.11,1.35,0.11,0.92,1.73 \\\n",
    "  -D 1000 -R 10 -N 1000 --pol-kin 0.1 \\\n",
    "  --lef-unstall-rate 0.00125 -L 400 -S 400 # lifetime is 100 Kb and sep is 1000 Kb; lef unstall is 1/(2*lifetime)\n",
    "  \n",
    "\n",
    "python ../01_3D_simulations.py -v -i data/traj1d/test-full.h5py -o data/traj3d/test-full/ -G 0\n",
    "\n",
    "python ../02_2D_contactmap.py -v -f -i data/traj3d/test-full/ -o data/maps2d/test.npy -N 1000 -R 10"
   ]
  },
  {
   "cell_type": "code",
   "execution_count": null,
   "id": "ee35e915-e83a-40e1-9a49-21b23f9a648a",
   "metadata": {},
   "outputs": [],
   "source": []
  }
 ],
 "metadata": {
  "kernelspec": {
   "display_name": "Python 3 (ipykernel)",
   "language": "python",
   "name": "python3"
  },
  "language_info": {
   "codemirror_mode": {
    "name": "ipython",
    "version": 3
   },
   "file_extension": ".py",
   "mimetype": "text/x-python",
   "name": "python",
   "nbconvert_exporter": "python",
   "pygments_lexer": "ipython3",
   "version": "3.9.12"
  }
 },
 "nbformat": 4,
 "nbformat_minor": 5
}
